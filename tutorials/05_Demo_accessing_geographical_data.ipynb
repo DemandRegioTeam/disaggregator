{
 "cells": [
  {
   "cell_type": "markdown",
   "metadata": {
    "toc": true
   },
   "source": [
    "<h1>Table of Contents<span class=\"tocSkip\"></span></h1>\n",
    "<div class=\"toc\"><ul class=\"toc-item\"><li><span><a href=\"#Accessing-geographical-data\" data-toc-modified-id=\"Accessing-geographical-data-1\"><span class=\"toc-item-num\">1&nbsp;&nbsp;</span>Accessing geographical data</a></span><ul class=\"toc-item\"><li><span><a href=\"#Show-underlying-nuts3-data\" data-toc-modified-id=\"Show-underlying-nuts3-data-1.1\"><span class=\"toc-item-num\">1.1&nbsp;&nbsp;</span>Show underlying nuts3 data</a></span></li><li><span><a href=\"#Show-underlying-geodata\" data-toc-modified-id=\"Show-underlying-geodata-1.2\"><span class=\"toc-item-num\">1.2&nbsp;&nbsp;</span>Show underlying geodata</a></span></li></ul></li><li><span><a href=\"#Plotting-with-annotations\" data-toc-modified-id=\"Plotting-with-annotations-2\"><span class=\"toc-item-num\">2&nbsp;&nbsp;</span>Plotting with annotations</a></span></li></ul></div>"
   ]
  },
  {
   "cell_type": "code",
   "execution_count": null,
   "metadata": {},
   "outputs": [],
   "source": [
    "%matplotlib inline\n",
    "from disaggregator import config, data, plot"
   ]
  },
  {
   "cell_type": "markdown",
   "metadata": {},
   "source": [
    "This notebook shows how to access geographical data, add annotations and export the figures as PDF files."
   ]
  },
  {
   "cell_type": "markdown",
   "metadata": {},
   "source": [
    "# Accessing geographical data"
   ]
  },
  {
   "cell_type": "markdown",
   "metadata": {},
   "source": [
    "The demand data can be visualised using the NUTS geocode standard for subdivisions of countries for statistical purposes. For Germany, these are states, regions, districts and municipalities.\n",
    "(Further information on NUTS can be found on the Wikipedia page: https://en.wikipedia.org/wiki/Nomenclature_of_Territorial_Units_for_Statistics)."
   ]
  },
  {
   "cell_type": "markdown",
   "metadata": {},
   "source": [
    "## Show underlying nuts3 data"
   ]
  },
  {
   "cell_type": "markdown",
   "metadata": {},
   "source": [
    "The NUTS data can be summarised in form of a dictionary..."
   ]
  },
  {
   "cell_type": "code",
   "execution_count": null,
   "metadata": {},
   "outputs": [],
   "source": [
    "dic_nuts3 = config.dict_region_code(keys='id_ags', values='natcode_nuts3')\n",
    "dic_nuts3"
   ]
  },
  {
   "cell_type": "markdown",
   "metadata": {},
   "source": [
    "... or in a more detailed Pandas Dataframe (`pd.DataFrame`)."
   ]
  },
  {
   "cell_type": "code",
   "execution_count": null,
   "metadata": {},
   "outputs": [],
   "source": [
    "df_nuts3 = config.dict_region_code(raw=True)\n",
    "\n",
    "df_nuts3.head(n=10) #Preview the df"
   ]
  },
  {
   "cell_type": "markdown",
   "metadata": {},
   "source": [
    "## Show underlying geodata"
   ]
  },
  {
   "cell_type": "markdown",
   "metadata": {},
   "source": [
    "The data can be connected to polygon shapes which are available from the Rest-API (using Geopandas). The data can then be saved in a dataframe using `data.database_shapes()`."
   ]
  },
  {
   "cell_type": "code",
   "execution_count": null,
   "metadata": {},
   "outputs": [],
   "source": [
    "gdf = data.database_shapes()\n",
    "gdf.head()"
   ]
  },
  {
   "cell_type": "markdown",
   "metadata": {},
   "source": [
    "... and can easily be plotted:"
   ]
  },
  {
   "cell_type": "code",
   "execution_count": null,
   "metadata": {},
   "outputs": [],
   "source": [
    "gdf.plot()"
   ]
  },
  {
   "cell_type": "markdown",
   "metadata": {},
   "source": [
    "# Plotting with annotations"
   ]
  },
  {
   "cell_type": "markdown",
   "metadata": {},
   "source": [
    "The data can also be visualised with additional information (such as population, etc.) and exported as a PDF file."
   ]
  },
  {
   "cell_type": "code",
   "execution_count": null,
   "metadata": {},
   "outputs": [],
   "source": [
    "#Example for population data\n",
    "\n",
    "df_pop = data.population()\n",
    "df_pop.head()"
   ]
  },
  {
   "cell_type": "markdown",
   "metadata": {},
   "source": [
    "Plot this dataset with a high level of detail and annotations:"
   ]
  },
  {
   "cell_type": "code",
   "execution_count": null,
   "metadata": {},
   "outputs": [],
   "source": [
    "fig, ax = plot.choropleth_map(df_pop, figsize=(15, 35), annotate=['nuts3', 'name', 'value', 'percentage'])"
   ]
  },
  {
   "cell_type": "markdown",
   "metadata": {},
   "source": [
    "... and save it as a zoomable PDF file:"
   ]
  },
  {
   "cell_type": "code",
   "execution_count": null,
   "metadata": {},
   "outputs": [],
   "source": [
    "fig.savefig(config.data_out('Population_Germany_high_detail.pdf'), bbox_inches='tight')"
   ]
  },
  {
   "cell_type": "markdown",
   "metadata": {},
   "source": [
    "This is an example of how the demand for the area around Hamburg looks like:"
   ]
  },
  {
   "cell_type": "code",
   "execution_count": null,
   "metadata": {},
   "outputs": [],
   "source": [
    "from IPython.display import Image\n",
    "hamburg = Image(filename=('./docs/_static/cutting_high_details.png'))\n",
    "hamburg"
   ]
  },
  {
   "cell_type": "code",
   "execution_count": null,
   "metadata": {},
   "outputs": [],
   "source": []
  }
 ],
 "metadata": {
  "hide_input": false,
  "kernelspec": {
   "display_name": "Python 3",
   "language": "python",
   "name": "python3"
  },
  "language_info": {
   "codemirror_mode": {
    "name": "ipython",
    "version": 3
   },
   "file_extension": ".py",
   "mimetype": "text/x-python",
   "name": "python",
   "nbconvert_exporter": "python",
   "pygments_lexer": "ipython3",
   "version": "3.6.8"
  },
  "toc": {
   "base_numbering": 1,
   "nav_menu": {},
   "number_sections": true,
   "sideBar": true,
   "skip_h1_title": false,
   "title_cell": "Table of Contents",
   "title_sidebar": "Contents",
   "toc_cell": true,
   "toc_position": {},
   "toc_section_display": true,
   "toc_window_display": true
  }
 },
 "nbformat": 4,
 "nbformat_minor": 4
}
