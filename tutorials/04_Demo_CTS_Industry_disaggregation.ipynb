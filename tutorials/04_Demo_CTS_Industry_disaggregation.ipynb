{
 "cells": [
  {
   "cell_type": "markdown",
   "metadata": {
    "toc": true
   },
   "source": [
    "<h1>Table of Contents<span class=\"tocSkip\"></span></h1>\n",
    "<div class=\"toc\"><ul class=\"toc-item\"><li><span><a href=\"#General-Settings-and-functions\" data-toc-modified-id=\"General-Settings-and-functions-1\"><span class=\"toc-item-num\">1&nbsp;&nbsp;</span>General Settings and functions</a></span><ul class=\"toc-item\"><li><ul class=\"toc-item\"><li><ul class=\"toc-item\"><li><span><a href=\"#Base-year\" data-toc-modified-id=\"Base-year-1.0.0.1\"><span class=\"toc-item-num\">1.0.0.1&nbsp;&nbsp;</span>Base year</a></span></li><li><span><a href=\"#Region-Codes\" data-toc-modified-id=\"Region-Codes-1.0.0.2\"><span class=\"toc-item-num\">1.0.0.2&nbsp;&nbsp;</span>Region Codes</a></span></li></ul></li></ul></li></ul></li><li><span><a href=\"#Spatial-Functions\" data-toc-modified-id=\"Spatial-Functions-2\"><span class=\"toc-item-num\">2&nbsp;&nbsp;</span>Spatial Functions</a></span><ul class=\"toc-item\"><li><span><a href=\"#Electricity-Consumption-in-[MWh/a]\" data-toc-modified-id=\"Electricity-Consumption-in-[MWh/a]-2.1\"><span class=\"toc-item-num\">2.1&nbsp;&nbsp;</span>Electricity Consumption in [MWh/a]</a></span></li><li><span><a href=\"#Gas-Consumption-in-[MWh/a]\" data-toc-modified-id=\"Gas-Consumption-in-[MWh/a]-2.2\"><span class=\"toc-item-num\">2.2&nbsp;&nbsp;</span>Gas Consumption in [MWh/a]</a></span></li><li><span><a href=\"#Functions-that-work-in-the-background\" data-toc-modified-id=\"Functions-that-work-in-the-background-2.3\"><span class=\"toc-item-num\">2.3&nbsp;&nbsp;</span>Functions that work in the background</a></span><ul class=\"toc-item\"><li><ul class=\"toc-item\"><li><span><a href=\"#Function-generate_specific_consumption_per_branch_and_district()\" data-toc-modified-id=\"Function-generate_specific_consumption_per_branch_and_district()-2.3.0.1\"><span class=\"toc-item-num\">2.3.0.1&nbsp;&nbsp;</span>Function <code>generate_specific_consumption_per_branch_and_district()</code></a></span></li></ul></li><li><span><a href=\"#generate_specific_consumption_per_branch()\" data-toc-modified-id=\"generate_specific_consumption_per_branch()-2.3.1\"><span class=\"toc-item-num\">2.3.1&nbsp;&nbsp;</span><code>generate_specific_consumption_per_branch()</code></a></span></li></ul></li></ul></li><li><span><a href=\"#Temporal-Functions\" data-toc-modified-id=\"Temporal-Functions-3\"><span class=\"toc-item-num\">3&nbsp;&nbsp;</span>Temporal Functions</a></span><ul class=\"toc-item\"><li><span><a href=\"#CTS-electricity-consumption-[MWh/15min]\" data-toc-modified-id=\"CTS-electricity-consumption-[MWh/15min]-3.1\"><span class=\"toc-item-num\">3.1&nbsp;&nbsp;</span>CTS electricity consumption [MWh/15min]</a></span><ul class=\"toc-item\"><li><span><a href=\"#Disaggregate-using-standard-load-profiles:-Function-disagg_temporal_power_CTS()\" data-toc-modified-id=\"Disaggregate-using-standard-load-profiles:-Function-disagg_temporal_power_CTS()-3.1.1\"><span class=\"toc-item-num\">3.1.1&nbsp;&nbsp;</span>Disaggregate using <strong>standard load profiles</strong>: Function <code>disagg_temporal_power_CTS()</code></a></span></li><li><span><a href=\"#Disaggregation-of-electricity-consumption-using-branch-load-profiles:-Function-disagg_temporal_power_CTS_blp()\" data-toc-modified-id=\"Disaggregation-of-electricity-consumption-using-branch-load-profiles:-Function-disagg_temporal_power_CTS_blp()-3.1.2\"><span class=\"toc-item-num\">3.1.2&nbsp;&nbsp;</span>Disaggregation of electricity consumption using <strong>branch load profiles</strong>: Function <code>disagg_temporal_power_CTS_blp()</code></a></span></li></ul></li><li><span><a href=\"#CTS-gas-consumption-[MWh/h]\" data-toc-modified-id=\"CTS-gas-consumption-[MWh/h]-3.2\"><span class=\"toc-item-num\">3.2&nbsp;&nbsp;</span>CTS gas consumption [MWh/h]</a></span><ul class=\"toc-item\"><li><span><a href=\"#Function-disagg_temporal_gas_CTS()\" data-toc-modified-id=\"Function-disagg_temporal_gas_CTS()-3.2.1\"><span class=\"toc-item-num\">3.2.1&nbsp;&nbsp;</span>Function disagg_temporal_gas_CTS()</a></span></li></ul></li><li><span><a href=\"#Industry-electricity-consumption-[MWh/15min]\" data-toc-modified-id=\"Industry-electricity-consumption-[MWh/15min]-3.3\"><span class=\"toc-item-num\">3.3&nbsp;&nbsp;</span>Industry electricity consumption [MWh/15min]</a></span><ul class=\"toc-item\"><li><span><a href=\"#Disaggregation-of-electricity-consumption-using-shift-load-profiles:-Function-disagg_temporal_industry()\" data-toc-modified-id=\"Disaggregation-of-electricity-consumption-using-shift-load-profiles:-Function-disagg_temporal_industry()-3.3.1\"><span class=\"toc-item-num\">3.3.1&nbsp;&nbsp;</span>Disaggregation of electricity consumption using <strong>shift load profiles</strong>: Function <code>disagg_temporal_industry()</code></a></span></li><li><span><a href=\"#Disaggregation-of-electricity-consumption-using-branch-load-profiles:-Function-disagg_temporal_power_industry_blp()\" data-toc-modified-id=\"Disaggregation-of-electricity-consumption-using-branch-load-profiles:-Function-disagg_temporal_power_industry_blp()-3.3.2\"><span class=\"toc-item-num\">3.3.2&nbsp;&nbsp;</span>Disaggregation of electricity consumption using <strong>branch load profiles</strong>: Function <code>disagg_temporal_power_industry_blp()</code></a></span></li></ul></li><li><span><a href=\"#Industry-gas-consumption\" data-toc-modified-id=\"Industry-gas-consumption-3.4\"><span class=\"toc-item-num\">3.4&nbsp;&nbsp;</span>Industry gas consumption</a></span></li></ul></li></ul></div>"
   ]
  },
  {
   "cell_type": "markdown",
   "metadata": {},
   "source": [
    "This Notebook shows how the disaggregator works for the sectors CTS and industry"
   ]
  },
  {
   "cell_type": "markdown",
   "metadata": {},
   "source": [
    "The disaggregator enables the user to generate DataFrames with:\n",
    "- spatial data, by using functions from the `spatial` module\n",
    "- temporal data, by using functions from the `temporal` module"
   ]
  },
  {
   "cell_type": "markdown",
   "metadata": {},
   "source": [
    "# General Settings and functions"
   ]
  },
  {
   "cell_type": "code",
   "execution_count": null,
   "metadata": {},
   "outputs": [],
   "source": [
    "# Import the packages and modules from disaggregator\n",
    "import pandas as pd\n",
    "import numpy as np\n",
    "from disaggregator import config, data, spatial, temporal, plot\n",
    "import matplotlib.pyplot as plt"
   ]
  },
  {
   "cell_type": "markdown",
   "metadata": {},
   "source": [
    "#### Base year\n",
    "- By setting the `base year` in the `config.yaml`, you define the year on which the spatial and temporal functions operate\n",
    "- some functions are not affected, e. g. ``generate_specific_consumption_per_branch()`` because it makes use of particular publications from these years"
   ]
  },
  {
   "cell_type": "markdown",
   "metadata": {},
   "source": [
    "#### Region Codes\n",
    "Since different statistics and publications use different notations for region codes, we compiled a dictionary that can be used to transform the different codes.\n",
    "- The function ``config.dict_region_code()`` returns a dictionary with conversions of different kinds of region denotation, if ``raw = False``\n",
    "- the dictionary can convert between the following designations ``ags_lk``, ``id_ags``, ``id_ags_lk``, ``id_nuts3``, ``id_t_nuts3_lk``, ``name``, ``natcode_nuts3``"
   ]
  },
  {
   "cell_type": "code",
   "execution_count": null,
   "metadata": {},
   "outputs": [],
   "source": [
    "config.dict_region_code(raw=True).head()"
   ]
  },
  {
   "cell_type": "markdown",
   "metadata": {},
   "source": [
    "# Spatial Functions"
   ]
  },
  {
   "cell_type": "markdown",
   "metadata": {},
   "source": [
    "The spatial functions perform the task to calculate energy demand per district and branch. Therefore, a specific energy consumption in `MWh/employee` is calculated per branch and district using information from the database. The functions that perform this task are called `generate_specific_consumption_per_branch()` and `generate_specific_consumption_per_branch_and_district()`. Their ouput is also saved in the folder `data_in`.\n",
    "Subsequently, the specific consumption is multiplied with the number of employees in each branch and district. This is done by the function `disagg_CTS_industry()`. This function also calls the aforementioned functions, if the folder `data_in` does not contain the respective output."
   ]
  },
  {
   "cell_type": "markdown",
   "metadata": {},
   "source": [
    "The function `spatial.disagg_CTS_industry()` requires at least two arguments:\n",
    "\n",
    "1. ``source`` is the source of energy and must be one of ``['power', 'gas']``.  \n",
    "2. ``sector`` is the sector whose energy consumption is to be disaggregated and must be one of ``['CTS', 'industry']``.\n",
    "\n",
    "\n",
    "Additionally, you can use NUTS-3 codes instead of the AGS ('Amtlicher Gemeindeschlüssel'), through setting ``use_nuts3code=True``.\n",
    "\n",
    "Also you can choose to disaggregate solely the \n",
    "\n",
    "    - electricity consumption obtained from the grid (when 'source' = 'power')\n",
    "    - gas consumption without consumption for self-generation of electricity (when 'source' = 'gas')\n",
    "by setting ``no_self_gen=True``.\n",
    "\n",
    "The function returns a DataFrame with absolute gas or electricity consumption per branch and district for the sectors CTS or industry in **MWh** for the ``base year`` (see ``config.yaml``)\n",
    "It uses files \"../data_in/regional/specific_`source`_consumption.csv\", with ``source`` being in [``power``, ``gas``], if file does not exist, the function ``generate_specific_consumption_per_branch_and_district()`` is called\n",
    "\n",
    "Let's start with ``power`` for both ``CTS`` and ``industry``:"
   ]
  },
  {
   "cell_type": "markdown",
   "metadata": {},
   "source": [
    "## Electricity Consumption in [MWh/a]"
   ]
  },
  {
   "cell_type": "code",
   "execution_count": null,
   "metadata": {},
   "outputs": [],
   "source": [
    "ec_CTS = spatial.disagg_CTS_industry(sector='CTS', source='power', use_nuts3code=True)\n",
    "ec_CTS.head()"
   ]
  },
  {
   "cell_type": "code",
   "execution_count": null,
   "metadata": {},
   "outputs": [],
   "source": [
    "ec_industry = spatial.disagg_CTS_industry(sector='industry', source='power', use_nuts3code=True)\n",
    "ec_industry.head()"
   ]
  },
  {
   "cell_type": "markdown",
   "metadata": {},
   "source": [
    "Plot your result using functions from the plot module:"
   ]
  },
  {
   "cell_type": "code",
   "execution_count": null,
   "metadata": {},
   "outputs": [],
   "source": [
    "ec_combined = pd.concat([ec_CTS.sum()/1000, ec_industry.sum()/1000], keys=['CTS', 'Industry'], axis=1, join='inner')\n",
    "fig, ax = plot.choropleth_map(ec_combined, relative=False, unit='GWh', axtitle='Electricity consumption by', \n",
    "                              colorbar_each_subplot=True,  add_percentages=False)"
   ]
  },
  {
   "cell_type": "markdown",
   "metadata": {},
   "source": [
    "Let's continue with ``gas`` for both ``CTS`` and ``industry``:\n",
    "\n",
    "## Gas Consumption in [MWh/a]\n"
   ]
  },
  {
   "cell_type": "code",
   "execution_count": null,
   "metadata": {},
   "outputs": [],
   "source": [
    "gc_CTS = spatial.disagg_CTS_industry(sector='CTS', source='gas', use_nuts3code=True)\n",
    "gc_CTS.head()"
   ]
  },
  {
   "cell_type": "code",
   "execution_count": null,
   "metadata": {},
   "outputs": [],
   "source": [
    "gc_industry = spatial.disagg_CTS_industry(sector='industry', source='gas', use_nuts3code=True)\n",
    "gc_industry.head()"
   ]
  },
  {
   "cell_type": "code",
   "execution_count": null,
   "metadata": {},
   "outputs": [],
   "source": [
    "gc_combined = pd.concat([gc_CTS.sum()/1000, gc_industry.sum()/1000], keys=['CTS', 'Industry'], axis=1, join='inner')\n",
    "fig, ax = plot.choropleth_map(gc_combined, relative=False, unit='GWh', axtitle='Gas consumption by', \n",
    "                              colorbar_each_subplot=True,  add_percentages=False)"
   ]
  },
  {
   "cell_type": "markdown",
   "metadata": {},
   "source": [
    "Now save this figure e.g. as PDF file:"
   ]
  },
  {
   "cell_type": "code",
   "execution_count": null,
   "metadata": {},
   "outputs": [],
   "source": [
    "from disaggregator.config import data_out\n",
    "fig.savefig(data_out('disagg_gas.pdf'), bbox_inches='tight')"
   ]
  },
  {
   "cell_type": "markdown",
   "metadata": {},
   "source": [
    "## Functions that work in the background"
   ]
  },
  {
   "cell_type": "markdown",
   "metadata": {},
   "source": [
    "#### Function ``generate_specific_consumption_per_branch_and_district()``\n",
    "\n",
    "The function `generate_specific_consumption_per_branch_and_district()` returns specific power and gas consumption per branch and district and requires at least two arguments:\n",
    "\n",
    "1. ``iterations_power`` is the number of iterations for specific power consumption and must be a positiv integer (8 is recommended).  \n",
    "2. ``iterations_gas`` is the number of iterations for specific gas consumption and must be a positiv integer (8 is recommended).\n",
    "\n",
    "\n",
    "Additionally, you can choose to generate solely the specific electricity consumption obtained from the grid and the specific gas consumption without consumption for self-generation of electricity by setting ``no_self_gen=True``."
   ]
  },
  {
   "cell_type": "code",
   "execution_count": null,
   "metadata": {},
   "outputs": [],
   "source": [
    "spec_ec_district, spec_gc_district = data.generate_specific_consumption_per_branch_and_district(8,8)"
   ]
  },
  {
   "cell_type": "code",
   "execution_count": null,
   "metadata": {},
   "outputs": [],
   "source": [
    "spec_ec_district.head()"
   ]
  },
  {
   "cell_type": "markdown",
   "metadata": {},
   "source": [
    "###  ``generate_specific_consumption_per_branch()``\n",
    "This function is the basis for ``generate_specific_consumption_per_branch_and_district()`` and doesn't take any arguments. It returns multiple dataframes which you can see in the demonstation below.\n",
    "\n",
    "The values are based on the publication [Umweltökonomische Gesamtrechnung, 2017](https://www.destatis.de/DE/Themen/Gesellschaft-Umwelt/Umwelt/Publikationen/Umweltnutzung-Wirtschaft/umweltnutzung-und-wirtschaft-energie-pdf-5850014.html) for 2015, which is also available from the DemandRegio database (table_id = 71, with some industry branches (WZ) being grouped together and with ET = 12 for gas and ET = 18 for electricity)"
   ]
  },
  {
   "cell_type": "code",
   "execution_count": null,
   "metadata": {},
   "outputs": [],
   "source": [
    "[df_spez_ec, df_spez_gc, df_abs_consumption, df_emp, \n",
    " df_f_sv_no_self_gen, df_f_gv_no_self_gen] = data.generate_specific_consumption_per_branch()"
   ]
  },
  {
   "cell_type": "code",
   "execution_count": null,
   "metadata": {},
   "outputs": [],
   "source": [
    "## specific electricity consumption for every branch\n",
    "df_spez_ec.head()"
   ]
  },
  {
   "cell_type": "code",
   "execution_count": null,
   "metadata": {},
   "outputs": [],
   "source": [
    "## absolute consumption as in \"Umweltökonomischer Gesamtrechnung\" for the year 2015, in Database dimension='spatial', table_id=71,\n",
    "df_abs_consumption.head()"
   ]
  },
  {
   "cell_type": "code",
   "execution_count": null,
   "metadata": {},
   "outputs": [],
   "source": [
    "## employees by branch and district\n",
    "df_emp.head()"
   ]
  },
  {
   "cell_type": "code",
   "execution_count": null,
   "metadata": {},
   "outputs": [],
   "source": [
    "# dataframes contain factors for calculating specific electricity consumption solely obtained from the grid\n",
    "# and specific gas consumption without consumption for self-generation of electricity (this is needed when no_self_gen = True)\n",
    "df_f_sv_no_self_gen.head()"
   ]
  },
  {
   "cell_type": "code",
   "execution_count": null,
   "metadata": {},
   "outputs": [],
   "source": [
    "df_f_gv_no_self_gen.head()"
   ]
  },
  {
   "cell_type": "markdown",
   "metadata": {},
   "source": [
    "# Temporal Functions"
   ]
  },
  {
   "cell_type": "markdown",
   "metadata": {},
   "source": [
    "The temporal functions perform the task to calculate energy demand time series per district and branch. Therefore, the output from the `spatial` functions is needed. \n",
    "\n",
    "Furthermore, normalized load time series are generated for every branch and district. The CTS load time series for power and gas are standard load profiles, the industry time series represent typical working shifts in the respective branch, with a low load level for non-working hours and a high load level for working hours. 9 different load profiles have been defined for industry representing 1-, 2- and 3-shift operation on 5, 6 and 7 days per week. Important functions, that fulfill the tasks in the background are `shift_load_profile_generator()`, `CTS_power_slp_generator()` as well as `t_allo()`, `h_value()`, `gas_slp_weekday_params` and `disagg_daily_gas_slp`.\n",
    "\n",
    "The results of these functions are brought together in 3 functions:\n",
    "- `disagg_temporal_power_CTS()` for the results on CTS for power\n",
    "- `disagg_temporal_gas_CTS()` for the results on CTS for gas\n",
    "- `disagg_temporal_industry()` for the results on industry for gas and power\n",
    "\n",
    "Each of these 3 function has a boolean argument `detailed` which is set on `False` by default. If `detailed` is put on `True` the function will return a multi-index-DataFrame() which contains a time series per branch AND district. If set on `False` it will only contain aggregated time series per district."
   ]
  },
  {
   "cell_type": "markdown",
   "metadata": {},
   "source": [
    "## CTS electricity consumption [MWh/15min]\n",
    "### Disaggregate using **standard load profiles**: Function ``disagg_temporal_power_CTS()``\n",
    "- Disagreggate spatial data of CTS' **power** demand temporally in **MWh**\n",
    "- returns DataFrame with districts as columns and timesteps as rows \n",
    "- takes two optional arguments:\n",
    "    - if ``detailed = True``, returns DataFrame with multiindex in columns with ``level=0`` for districts and ``level=1`` for branches, timesteps as rows\n",
    "    - if ``use_nuts3code=True``, uses NUTS-3 Codes instead of AGS\n",
    "- Uses temporal and spatial functions `disagg_CTS('power')` , `CTS_power_slp_generator` and information from `config.py`"
   ]
  },
  {
   "cell_type": "code",
   "execution_count": null,
   "metadata": {
    "jupyter": {
     "outputs_hidden": true
    }
   },
   "outputs": [],
   "source": [
    "df_CTS = temporal.disagg_temporal_power_CTS(detailed=False, use_nuts3code=True)"
   ]
  },
  {
   "cell_type": "code",
   "execution_count": null,
   "metadata": {},
   "outputs": [],
   "source": [
    "df_CTS.head()"
   ]
  },
  {
   "cell_type": "code",
   "execution_count": null,
   "metadata": {},
   "outputs": [],
   "source": [
    "# export your data using\n",
    "df_CTS.to_csv(data_out('CTS_Power_2015_MWh.csv'))"
   ]
  },
  {
   "cell_type": "code",
   "execution_count": null,
   "metadata": {},
   "outputs": [],
   "source": [
    "# or plot your data using\n",
    "plot.heatmap_timeseries(df_CTS['DEF01'].resample('H').sum(), unit = 'MWh')"
   ]
  },
  {
   "cell_type": "markdown",
   "metadata": {},
   "source": [
    "\n",
    "\n",
    "Alternatively, you can use detailed version of the function (this may take some time)."
   ]
  },
  {
   "cell_type": "code",
   "execution_count": null,
   "metadata": {
    "jupyter": {
     "outputs_hidden": true
    }
   },
   "outputs": [],
   "source": [
    "df_CTS_detail = temporal.disagg_temporal_power_CTS(detailed=True, use_nuts3code=True)"
   ]
  },
  {
   "cell_type": "code",
   "execution_count": null,
   "metadata": {},
   "outputs": [],
   "source": [
    "# filter your results using multiindex\n",
    "df_lk_DEF01 = df_CTS_detail.loc[:, 'DEF01']\n",
    "df_lk_DEF01.head()"
   ]
  },
  {
   "cell_type": "code",
   "execution_count": null,
   "metadata": {},
   "outputs": [],
   "source": [
    "# use DataFrame.reorder_levels to filter for CTS branches\n",
    "df_wz_81 = df_CTS_detail.reorder_levels([1,0], axis=1).loc[:,81]\n",
    "df_wz_81.head()"
   ]
  },
  {
   "cell_type": "markdown",
   "metadata": {},
   "source": [
    "###  Disaggregation of electricity consumption using **branch load profiles**: Function ``disagg_temporal_power_CTS_blp()``\n",
    "- works similar as disaggregation with standard load profiles (SLP), however uses industry specific branch load profiles (BLP), which have been created using measured data\n",
    "- covers 39 industries from CTS sector and 12 from industrial sector\n",
    "- industries where no BLP is available will be disaggregated using SLP\n",
    "- the function can be called using the same arguments as ``disagg_temporal_power_CTS()`` "
   ]
  },
  {
   "cell_type": "code",
   "execution_count": null,
   "metadata": {
    "jupyter": {
     "outputs_hidden": true
    }
   },
   "outputs": [],
   "source": [
    "df_CTS_blp = temporal.disagg_temporal_power_CTS_blp(year=2017, use_nuts3code=True)\n"
   ]
  },
  {
   "cell_type": "code",
   "execution_count": null,
   "metadata": {},
   "outputs": [],
   "source": [
    "df_CTS_blp.head()"
   ]
  },
  {
   "cell_type": "code",
   "execution_count": null,
   "metadata": {},
   "outputs": [],
   "source": [
    "plot.heatmap_timeseries(df_CTS_blp['DEF01'].resample('H').sum(), unit = 'MWh')"
   ]
  },
  {
   "cell_type": "code",
   "execution_count": null,
   "metadata": {
    "jupyter": {
     "outputs_hidden": true
    }
   },
   "outputs": [],
   "source": [
    "# function can also be called using detaild=True to provide an output per nuts3-region and industry via multicolumn\n",
    "df_CTS_blp_detailed = temporal.disagg_temporal_power_CTS_blp(year=2016, detailed=True, use_nuts3code=True)\n"
   ]
  },
  {
   "cell_type": "markdown",
   "metadata": {},
   "source": [
    "## CTS gas consumption [MWh/h]\n",
    "### Function disagg_temporal_gas_CTS()\n",
    "- Disagreggate spatial data of CTS' **gas** demand temporally in **MWh**\n",
    "- returns DataFrame with districts as columns and timesteps as rows \n",
    "- takes two optional arguments:\n",
    "    - if ``detailed = True``, returns DataFrame with multiindex in columns with ``level=0`` for districts and ``level=1`` for branches, timesteps as rows\n",
    "    - if ``use_nuts3code=True``, uses NUTS-3 Codes instead of AGS\n",
    "- Uses temporal and spatial functions like `disagg_daily_gas_slp(state)` and information from `config.py` and `./data_in/Gas Load Profiles/`"
   ]
  },
  {
   "cell_type": "code",
   "execution_count": null,
   "metadata": {},
   "outputs": [],
   "source": [
    "# run function\n",
    "df_CTS_gas = temporal.disagg_temporal_gas_CTS(detailed=False, use_nuts3code=False)\n",
    "df_CTS_gas.head()"
   ]
  },
  {
   "cell_type": "code",
   "execution_count": null,
   "metadata": {},
   "outputs": [],
   "source": [
    "# export your data using\n",
    "df_CTS_gas.to_csv(data_out('CTS_Power_2015_MWh.csv'))"
   ]
  },
  {
   "cell_type": "code",
   "execution_count": null,
   "metadata": {},
   "outputs": [],
   "source": [
    "# or plot your data using\n",
    "plot.heatmap_timeseries(df_CTS_gas['1001'], unit = 'MWh')"
   ]
  },
  {
   "cell_type": "code",
   "execution_count": null,
   "metadata": {},
   "outputs": [],
   "source": [
    "# plot your data\n",
    "df_CTS_gas[[\"1001\", \"1002\"]].plot(figsize=(12,6), ylim = 0)"
   ]
  },
  {
   "cell_type": "markdown",
   "metadata": {},
   "source": [
    "##  Industry electricity consumption [MWh/15min]\n",
    "### Disaggregation of electricity consumption using **shift load profiles**: Function ``disagg_temporal_industry()``\n",
    "- Disagreggate spatial data of industry **power** and **gas** demand per quarter-hour for all districts in **MWh**\n",
    "- returns DataFrame with districts as columns and timesteps as rows\n",
    "- requires at least two arguments:\n",
    "    - ``source`` which is the source of energy and must be one of ``['power','gas']``\n",
    "    - ``low`` is the low load level for non-working hours and must be a float between ``[0,1]`` (default is 0.35, meaning that the lower level is 35% of the higher level)\n",
    "- takes three optional arguments:\n",
    "    - if ``no_self_gen = True`` then only electricity consumption obtained from the grid (for 'source' = 'power') and only gas consumption without gas consumption for self-generation of electricity (for 'source' = 'gas') will be disaggregated\n",
    "    - if ``detailed = True``, returns DataFrame with multiindex in columns with ``level=0`` for districts and ``level=1`` for branches, timesteps as rows\n",
    "    - if ``use_nuts3code=True``, uses NUTS-3 Codes instead of AGS\n",
    "- Uses temporal and spatial functions like `shift_load_profile_generator()`, `disagg_CTS_industry()` and information from `config.py`\n",
    "\n",
    "\n",
    "Let's start with industrial power consumption and compare consumption with and without self generation:"
   ]
  },
  {
   "cell_type": "code",
   "execution_count": null,
   "metadata": {
    "jupyter": {
     "outputs_hidden": true
    }
   },
   "outputs": [],
   "source": [
    "df_ec_industry_no_self_gen = temporal.disagg_temporal_industry(source='power', no_self_gen=True,\n",
    "                                                               detailed=False, use_nuts3code=False)"
   ]
  },
  {
   "cell_type": "code",
   "execution_count": null,
   "metadata": {},
   "outputs": [],
   "source": [
    "df_ec_industry_no_self_gen.head()"
   ]
  },
  {
   "cell_type": "code",
   "execution_count": null,
   "metadata": {
    "jupyter": {
     "outputs_hidden": true
    }
   },
   "outputs": [],
   "source": [
    "df_ec_industry = temporal.disagg_temporal_industry(source='power', no_self_gen=False, detailed=False, \n",
    "                                                   use_nuts3code=False, low=0.35)"
   ]
  },
  {
   "cell_type": "code",
   "execution_count": null,
   "metadata": {
    "scrolled": true
   },
   "outputs": [],
   "source": [
    "df_ec_industry.head()"
   ]
  },
  {
   "cell_type": "code",
   "execution_count": null,
   "metadata": {},
   "outputs": [],
   "source": [
    "ec_industry_combined = pd.concat([df_ec_industry.sum(axis=1), df_ec_industry_no_self_gen.sum(axis=1)], \n",
    "                                 keys=['industry', 'industry without self-generation'], \n",
    "                                 axis=1, join='inner')\n",
    "ec_industry_combined.head()"
   ]
  },
  {
   "cell_type": "code",
   "execution_count": null,
   "metadata": {},
   "outputs": [],
   "source": [
    "fig, ax = plt.subplots(figsize = [12,6])\n",
    "ec_industry_combined['industry'].head(800).plot(ax=ax)\n",
    "ec_industry_combined['industry without self-generation'].head(800).plot(ax=ax)\n",
    "plot.set_ax_format(ax=ax, ylabel='[MWh]', xlabel='Date',\n",
    "                   axtitle='Power Consumption of Industry in Germany with and without self generation')"
   ]
  },
  {
   "cell_type": "markdown",
   "metadata": {},
   "source": [
    "### Disaggregation of electricity consumption using **branch load profiles**: Function ``disagg_temporal_power_industry_blp()``\n",
    "- works similar as disaggregation with shift load profiles, however uses industry specific branch load profiles (BLP), which have been created using measured data\n",
    "- can only be applied to the electricity consumtion, so ``source = 'power'`` has to be set \n",
    "- covers 39 industries from CTS sector and 12 from industrial sector\n",
    "- industries where no BLP is available will be disaggregated using SLP\n",
    "- the function can be called using the same arguments as ``disagg_temporal_power_CTS()``"
   ]
  },
  {
   "cell_type": "code",
   "execution_count": null,
   "metadata": {
    "jupyter": {
     "outputs_hidden": true
    }
   },
   "outputs": [],
   "source": [
    "df_industry_blp_detailed = temporal.disagg_temporal_industry_blp(year=2016, detailed=True, use_nuts3code=True)\n"
   ]
  },
  {
   "cell_type": "code",
   "execution_count": null,
   "metadata": {},
   "outputs": [],
   "source": [
    "df_industry_blp_detailed.head()"
   ]
  },
  {
   "cell_type": "markdown",
   "metadata": {},
   "source": [
    "## Industry gas consumption\n",
    "- uses the same function ``disagg_temporal_industry()`` but with argument ``source='gas'``\n",
    "- works similar as temporal disaggregation for electricity\n",
    "- uses **shift load profiles**, branch load profiles are not available for gas consumption\n",
    "- example shows disaggregation with argument ``low=0.2``"
   ]
  },
  {
   "cell_type": "code",
   "execution_count": null,
   "metadata": {
    "jupyter": {
     "outputs_hidden": true
    }
   },
   "outputs": [],
   "source": [
    "df_gas_industry_no_self_gen = temporal.disagg_temporal_industry(source='gas', no_self_gen=True, \n",
    "                                                                detailed=False, use_nuts3code=False, low=0.2)"
   ]
  },
  {
   "cell_type": "code",
   "execution_count": null,
   "metadata": {},
   "outputs": [],
   "source": [
    "df_gas_industry_no_self_gen.head()"
   ]
  },
  {
   "cell_type": "code",
   "execution_count": null,
   "metadata": {
    "jupyter": {
     "outputs_hidden": true
    }
   },
   "outputs": [],
   "source": [
    "df_gas_industry = temporal.disagg_temporal_industry(source='gas', detailed=False, use_nuts3code=False, low=0.2)"
   ]
  },
  {
   "cell_type": "code",
   "execution_count": null,
   "metadata": {},
   "outputs": [],
   "source": [
    "df_gas_industry.head()"
   ]
  },
  {
   "cell_type": "code",
   "execution_count": null,
   "metadata": {},
   "outputs": [],
   "source": [
    "gc_industry_combined = pd.concat([df_gas_industry.sum(axis=1), df_gas_industry_no_self_gen.sum(axis=1)], \n",
    "                                 keys=['industry', 'industry without self-generation'], \n",
    "                                 axis=1, join='inner')\n",
    "gc_industry_combined.head()"
   ]
  },
  {
   "cell_type": "code",
   "execution_count": null,
   "metadata": {},
   "outputs": [],
   "source": [
    "fig, ax = plt.subplots(figsize = [12,6])\n",
    "ec_industry_combined['industry'].head(800).plot(ax=ax)\n",
    "ec_industry_combined['industry without self-generation'].head(800).plot(ax=ax)\n",
    "plot.set_ax_format(ax=ax, ylabel='[MWh]', xlabel='Date',\n",
    "                   axtitle='Gas Consumption of Industry in Germany with and without self generation')"
   ]
  },
  {
   "cell_type": "code",
   "execution_count": null,
   "metadata": {},
   "outputs": [],
   "source": [
    "# export your data using\n",
    "# df_gas_industry.to_csv(data_out('Industry_Gas_2015_MWh.csv'))"
   ]
  },
  {
   "cell_type": "code",
   "execution_count": null,
   "metadata": {},
   "outputs": [],
   "source": [
    "plot.heatmap_timeseries(df_gas_industry[1001].resample('H').sum(), unit = 'MWh')"
   ]
  },
  {
   "cell_type": "code",
   "execution_count": null,
   "metadata": {},
   "outputs": [],
   "source": [
    "df_gas_industry.loc[:,[1001, 1002]].head(672).plot(figsize=(12,6))"
   ]
  },
  {
   "cell_type": "code",
   "execution_count": null,
   "metadata": {},
   "outputs": [],
   "source": []
  }
 ],
 "metadata": {
  "hide_input": false,
  "kernelspec": {
   "display_name": "Python 3",
   "language": "python",
   "name": "python3"
  },
  "language_info": {
   "codemirror_mode": {
    "name": "ipython",
    "version": 3
   },
   "file_extension": ".py",
   "mimetype": "text/x-python",
   "name": "python",
   "nbconvert_exporter": "python",
   "pygments_lexer": "ipython3",
   "version": "3.6.8"
  },
  "toc": {
   "base_numbering": 1,
   "nav_menu": {},
   "number_sections": true,
   "sideBar": true,
   "skip_h1_title": false,
   "title_cell": "Table of Contents",
   "title_sidebar": "Contents",
   "toc_cell": true,
   "toc_position": {},
   "toc_section_display": true,
   "toc_window_display": false
  }
 },
 "nbformat": 4,
 "nbformat_minor": 4
}
