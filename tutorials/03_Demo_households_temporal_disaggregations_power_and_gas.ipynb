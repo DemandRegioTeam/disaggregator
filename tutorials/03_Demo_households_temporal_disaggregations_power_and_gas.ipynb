{
 "cells": [
  {
   "cell_type": "markdown",
   "metadata": {
    "toc": true
   },
   "source": [
    "<h1>Table of Contents<span class=\"tocSkip\"></span></h1>\n",
    "<div class=\"toc\"><ul class=\"toc-item\"><li><span><a href=\"#Power-by-'Time-Use-Survey'-(ZVE,-only-2015)\" data-toc-modified-id=\"Power-by-'Time-Use-Survey'-(ZVE,-only-2015)-1\"><span class=\"toc-item-num\">1&nbsp;&nbsp;</span>Power by 'Time Use Survey' (ZVE, only 2015)</a></span></li><li><span><a href=\"#Power-by-'Standard-Load-Profiles'-(SLP,-all-years)\" data-toc-modified-id=\"Power-by-'Standard-Load-Profiles'-(SLP,-all-years)-2\"><span class=\"toc-item-num\">2&nbsp;&nbsp;</span>Power by 'Standard Load Profiles' (SLP, all years)</a></span></li><li><span><a href=\"#Gas-by-'Standard-Load-Profiles'-(SLP,-all-years)\" data-toc-modified-id=\"Gas-by-'Standard-Load-Profiles'-(SLP,-all-years)-3\"><span class=\"toc-item-num\">3&nbsp;&nbsp;</span>Gas by 'Standard Load Profiles' (SLP, all years)</a></span></li><li><span><a href=\"#Older-version\" data-toc-modified-id=\"Older-version-4\"><span class=\"toc-item-num\">4&nbsp;&nbsp;</span>Older version</a></span></li></ul></div>"
   ]
  },
  {
   "cell_type": "code",
   "execution_count": null,
   "metadata": {},
   "outputs": [],
   "source": [
    "#Import packages\n",
    "from disaggregator import config, data, spatial, temporal, plot\n",
    "import pandas as pd\n",
    "import matplotlib.pyplot as plt"
   ]
  },
  {
   "cell_type": "markdown",
   "metadata": {},
   "source": [
    "# Power by 'Time Use Survey' (ZVE, only 2015)"
   ]
  },
  {
   "cell_type": "markdown",
   "metadata": {},
   "source": [
    "Get spatial data in [MWh] that shall be disaggregated using `disaggregator.temporal`."
   ]
  },
  {
   "cell_type": "code",
   "execution_count": null,
   "metadata": {},
   "outputs": [],
   "source": [
    "df_spat = spatial.disagg_households_power('population', weight_by_income=True) * 1e3\n",
    "df_spat.head()"
   ]
  },
  {
   "cell_type": "markdown",
   "metadata": {},
   "source": [
    "Calculate temporal distribution keys based on the ZVE. They will be saved in your `data_out` folder. This step may take up to 60 Minutes but is only required once."
   ]
  },
  {
   "cell_type": "code",
   "execution_count": null,
   "metadata": {
    "jupyter": {
     "outputs_hidden": true
    }
   },
   "outputs": [],
   "source": [
    "temporal.make_zve_load_profiles()"
   ]
  },
  {
   "cell_type": "markdown",
   "metadata": {},
   "source": [
    "Then load the temporal distribution keys based on the ZVE:"
   ]
  },
  {
   "cell_type": "code",
   "execution_count": null,
   "metadata": {},
   "outputs": [],
   "source": [
    "df_temp = (pd.read_csv(config.data_out('ZVE_timeseries_AllRegions_2015.csv'),\n",
    "                       engine='c', index_col=0, parse_dates=True,\n",
    "                       infer_datetime_format=True)\n",
    "              .pipe(data.transpose_spatiotemporal))\n",
    "df_temp"
   ]
  },
  {
   "cell_type": "markdown",
   "metadata": {},
   "source": [
    "The function `temporal.disagg_temporal()` needs two inputs:\n",
    "1. **a spatial dataset**  \n",
    "    either as `pd.Series` or `pd.DataFrame`: in both cases _NUTS-3-index'ed_\n",
    "\n",
    "\n",
    "2. **a temporal dataset**  \n",
    "    if passed as `pd.DataFrame`: _NUTS-3-index'ed_  \n",
    "    if passed as `pd.Series`: _pd.DateTimeIndex'ed_\n",
    "\n",
    "Pre-check:\n",
    "* Both `df_spat` and `df_temp` are `pd.DataFrame`s\n",
    "* Both have NUTS-3-indices.\n",
    "\n",
    "So now we can directly perfom the disaggregation:"
   ]
  },
  {
   "cell_type": "code",
   "execution_count": null,
   "metadata": {},
   "outputs": [],
   "source": [
    "df_elc_tempo_ZVE = temporal.disagg_temporal(df_spat, df_temp)"
   ]
  },
  {
   "cell_type": "code",
   "execution_count": null,
   "metadata": {},
   "outputs": [],
   "source": [
    "df_elc_tempo_ZVE.head()"
   ]
  },
  {
   "cell_type": "markdown",
   "metadata": {},
   "source": [
    "We see that the data has successfully been disaggregated. However, regions are in rows and time-steps are in columns -- this is not really intuitive. Better would be the other way round, right? We can achieve this by passing `time_indexed=True` to give us a transponed version:"
   ]
  },
  {
   "cell_type": "code",
   "execution_count": null,
   "metadata": {},
   "outputs": [],
   "source": [
    "df_elc_tempo_ZVE = temporal.disagg_temporal(df_spat, df_temp, time_indexed=True)"
   ]
  },
  {
   "cell_type": "code",
   "execution_count": null,
   "metadata": {},
   "outputs": [],
   "source": [
    "df_elc_tempo_ZVE.head()"
   ]
  },
  {
   "cell_type": "markdown",
   "metadata": {},
   "source": [
    "So let's take out one region, e.g. Berlin (DE300), and plot it as a line graph:"
   ]
  },
  {
   "cell_type": "code",
   "execution_count": null,
   "metadata": {},
   "outputs": [],
   "source": [
    "fig, ax = plt.subplots(figsize=(20, 4))\n",
    "df_elc_tempo_ZVE['DE300'].plot(ax=ax)\n",
    "plot.set_ax_format(ax=ax, xlim=(0, 8760), ylim=(0, None), \n",
    "                   ylabel='[MWh]', xlabel='Hour of Year',\n",
    "                   axtitle='Power Consumption of Private Households in Berlin')"
   ]
  },
  {
   "cell_type": "markdown",
   "metadata": {},
   "source": [
    "This depictation however does not provide a good visualization of what is happening on shorter timescales, i.e. within one day.\n",
    "\n",
    "Therefore, we choose to plot it as a heatmap:"
   ]
  },
  {
   "cell_type": "code",
   "execution_count": null,
   "metadata": {},
   "outputs": [],
   "source": [
    "fig, ax = plot.heatmap_timeseries(df_elc_tempo_ZVE['DE300'], clabel='[MWh]')"
   ]
  },
  {
   "cell_type": "markdown",
   "metadata": {},
   "source": [
    "# Power by 'Standard Load Profiles' (SLP, all years)\n",
    "(Updated Dec 2020)"
   ]
  },
  {
   "cell_type": "markdown",
   "metadata": {},
   "source": [
    "Use `temporal.disagg_temporal_power_housholds_slp()` to get power demand (2016) of households in 15min slices in **MWh**."
   ]
  },
  {
   "cell_type": "code",
   "execution_count": null,
   "metadata": {
    "scrolled": true
   },
   "outputs": [],
   "source": [
    "df_elec_temp_slp = temporal.disagg_temporal_power_housholds_slp(use_nuts3code=True, by='population', weight_by_income=False,  year=2016)\n",
    "#df_elec_temp_slp.head()"
   ]
  },
  {
   "cell_type": "code",
   "execution_count": null,
   "metadata": {},
   "outputs": [],
   "source": [
    "df_elec_temp_slp.head()"
   ]
  },
  {
   "cell_type": "markdown",
   "metadata": {},
   "source": [
    "... and can then be plotted directly:"
   ]
  },
  {
   "cell_type": "code",
   "execution_count": null,
   "metadata": {},
   "outputs": [],
   "source": [
    "fig, ax = plot.heatmap_timeseries(df_elec_temp_slp.resample('H').sum()['DE300'], clabel='[MWh]')\n",
    "ax[0, 0].set_title('Electricity Load Private Households Germany')"
   ]
  },
  {
   "cell_type": "markdown",
   "metadata": {},
   "source": [
    "# Gas by 'Standard Load Profiles' (SLP, all years)\n",
    "(Updated Dec 2020)"
   ]
  },
  {
   "cell_type": "markdown",
   "metadata": {},
   "source": [
    "Use `disagg_temporal_gas_households()` to get hourly gas demand of households in **MWh** for every region. Function uses spatial function `disagg_households_gas()`, which distinguishes between gas demand for heating, cooking and warm water. However, demands are summed up for SLP.\n",
    "\n",
    "Demands are then split between demand for _single family houses (EFH)_ and _multi family houses (MFH)_ with the help of ``data.percentage_EFH_MFH()``, which calculates the percentages of EFH and MFH per NUTS-3 based on the available living spaces."
   ]
  },
  {
   "cell_type": "code",
   "execution_count": null,
   "metadata": {
    "scrolled": true
   },
   "outputs": [],
   "source": [
    "# use function disagg_daily_gas_slp_households similar as for CTS to create gas SLP for all years\n",
    "# specify year either through config file (restart kernel after) or specify directly in function\n",
    "df_households_gas = temporal.disagg_temporal_gas_households(use_nuts3code=True, year=2017)"
   ]
  },
  {
   "cell_type": "code",
   "execution_count": null,
   "metadata": {},
   "outputs": [],
   "source": [
    "df_households_gas.head()"
   ]
  },
  {
   "cell_type": "markdown",
   "metadata": {},
   "source": [
    "You can also plot `df_households_gas` directly:"
   ]
  },
  {
   "cell_type": "code",
   "execution_count": null,
   "metadata": {},
   "outputs": [],
   "source": [
    "fig, ax = plot.heatmap_timeseries(df_households_gas.sum(axis=1)/1e3, clabel='[GWh]')\n",
    "ax[0, 0].set_title('Gas Load Private Households Germany')"
   ]
  },
  {
   "cell_type": "markdown",
   "metadata": {},
   "source": [
    "# Older version"
   ]
  },
  {
   "cell_type": "markdown",
   "metadata": {},
   "source": [
    "Normalized gas SLP for _single family houses_ (EFH) and _multi family houses (MFH)_ have been uploaded into the database untill 2016 as well. which could be used with ``temporal.disagg_temporal(df_spat, df_temp)`` and ``data.transpose_spatiotemporal()`` to perform the same disaggregation."
   ]
  },
  {
   "cell_type": "code",
   "execution_count": null,
   "metadata": {},
   "outputs": [],
   "source": [
    "df_temp_EFH = data.standard_load_profile_gas(typ='EFH') # type='EFH'\n",
    "df_temp_EFH.head()"
   ]
  },
  {
   "cell_type": "markdown",
   "metadata": {},
   "source": [
    "This dataframe has the NUTS-3-regions in columns and the timesteps in rows. Though being intuitive that way, the function ` temporal.disagg_temporal(df_spat, df_temp)` requires us to provide the temporal dataset _NUTS-3-index'ed_ (i.e. with timesteps in columns) for compatibility reasons. To achieve that, we use the function `data.transpose_spatiotemporal()`"
   ]
  },
  {
   "cell_type": "code",
   "execution_count": null,
   "metadata": {},
   "outputs": [],
   "source": [
    "df_temp_MFH = data.standard_load_profile_gas(typ='MFH') # type='MFH'"
   ]
  },
  {
   "cell_type": "code",
   "execution_count": null,
   "metadata": {},
   "outputs": [],
   "source": [
    "df_temp_MFH.head()"
   ]
  },
  {
   "cell_type": "code",
   "execution_count": null,
   "metadata": {},
   "outputs": [],
   "source": [
    "df_temp_EFH = data.transpose_spatiotemporal(df_temp_EFH)\n",
    "df_temp_MFH = data.transpose_spatiotemporal(df_temp_MFH)"
   ]
  },
  {
   "cell_type": "code",
   "execution_count": null,
   "metadata": {},
   "outputs": [],
   "source": [
    "#define df_gas_EFH and df_gas_MFH\n",
    "#df_gas_EFH =\n",
    "#df_gas_MFH ="
   ]
  },
  {
   "cell_type": "markdown",
   "metadata": {},
   "source": [
    "Note: It is by design that the pd.DateTimeIndex gets lost while transposing this way for a better handling of the data. The former index is being recovered, one it is transposed again."
   ]
  },
  {
   "cell_type": "code",
   "execution_count": null,
   "metadata": {},
   "outputs": [],
   "source": [
    "df_gas_st_EFH = temporal.disagg_temporal(df_gas_EFH, df_temp_EFH, time_indexed=True)\n",
    "df_gas_st_MFH = temporal.disagg_temporal(df_gas_MFH, df_temp_MFH, time_indexed=True)\n",
    "#df_gas_st_EFH.head()"
   ]
  },
  {
   "cell_type": "markdown",
   "metadata": {},
   "source": [
    "Sum these consumption for both building types up:"
   ]
  },
  {
   "cell_type": "code",
   "execution_count": null,
   "metadata": {},
   "outputs": [],
   "source": [
    "df_gas_st = df_gas_st_EFH + df_gas_st_MFH\n",
    "df_gas_st"
   ]
  },
  {
   "cell_type": "markdown",
   "metadata": {},
   "source": [
    "Instead of selecting one specific region, this time we choose to sum it up for the entire country:"
   ]
  },
  {
   "cell_type": "code",
   "execution_count": null,
   "metadata": {},
   "outputs": [],
   "source": [
    "ser_gas = df_gas_st.sum(axis=1)"
   ]
  },
  {
   "cell_type": "markdown",
   "metadata": {},
   "source": [
    "Now we can plot this one again as well:"
   ]
  },
  {
   "cell_type": "code",
   "execution_count": null,
   "metadata": {},
   "outputs": [],
   "source": [
    "fig, ax = plot.heatmap_timeseries(ser_gas/1e3, clabel='[GWh]')\n",
    "ax[0, 0].set_title('Gas Load Private Households Germany')"
   ]
  }
 ],
 "metadata": {
  "hide_input": false,
  "kernelspec": {
   "display_name": "Python 3",
   "language": "python",
   "name": "python3"
  },
  "language_info": {
   "codemirror_mode": {
    "name": "ipython",
    "version": 3
   },
   "file_extension": ".py",
   "mimetype": "text/x-python",
   "name": "python",
   "nbconvert_exporter": "python",
   "pygments_lexer": "ipython3",
   "version": "3.6.8"
  },
  "toc": {
   "base_numbering": 1,
   "nav_menu": {},
   "number_sections": true,
   "sideBar": true,
   "skip_h1_title": false,
   "title_cell": "Table of Contents",
   "title_sidebar": "Contents",
   "toc_cell": true,
   "toc_position": {},
   "toc_section_display": true,
   "toc_window_display": false
  }
 },
 "nbformat": 4,
 "nbformat_minor": 4
}
