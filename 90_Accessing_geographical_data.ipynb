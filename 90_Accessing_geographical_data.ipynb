{
 "cells": [
  {
   "cell_type": "markdown",
   "metadata": {},
   "source": [
    "# This notebook demonstrates how to access geographical data"
   ]
  },
  {
   "cell_type": "code",
   "execution_count": 1,
   "metadata": {},
   "outputs": [],
   "source": [
    "%matplotlib inline\n",
    "from disaggregator import config, data"
   ]
  },
  {
   "cell_type": "markdown",
   "metadata": {},
   "source": [
    "### Show underlying nuts3 data"
   ]
  },
  {
   "cell_type": "markdown",
   "metadata": {},
   "source": [
    "... short, in form of a dictionary:"
   ]
  },
  {
   "cell_type": "code",
   "execution_count": 18,
   "metadata": {},
   "outputs": [
    {
     "data": {
      "text/html": [
       "<div>\n",
       "<style scoped>\n",
       "    .dataframe tbody tr th:only-of-type {\n",
       "        vertical-align: middle;\n",
       "    }\n",
       "\n",
       "    .dataframe tbody tr th {\n",
       "        vertical-align: top;\n",
       "    }\n",
       "\n",
       "    .dataframe thead th {\n",
       "        text-align: right;\n",
       "    }\n",
       "</style>\n",
       "<table border=\"1\" class=\"dataframe\">\n",
       "  <thead>\n",
       "    <tr style=\"text-align: right;\">\n",
       "      <th></th>\n",
       "      <th>ags_lk</th>\n",
       "      <th>id_ags</th>\n",
       "      <th>id_ags_lk</th>\n",
       "      <th>id_nuts3</th>\n",
       "      <th>id_t_nuts3_lk</th>\n",
       "      <th>name</th>\n",
       "      <th>natcode_nuts3</th>\n",
       "    </tr>\n",
       "    <tr>\n",
       "      <th>idx</th>\n",
       "      <th></th>\n",
       "      <th></th>\n",
       "      <th></th>\n",
       "      <th></th>\n",
       "      <th></th>\n",
       "      <th></th>\n",
       "      <th></th>\n",
       "    </tr>\n",
       "  </thead>\n",
       "  <tbody>\n",
       "    <tr>\n",
       "      <th>347</th>\n",
       "      <td>13071</td>\n",
       "      <td>13071000</td>\n",
       "      <td>416</td>\n",
       "      <td>27600416</td>\n",
       "      <td>397</td>\n",
       "      <td>Mecklenburgische Seenplatte</td>\n",
       "      <td>DE80J</td>\n",
       "    </tr>\n",
       "    <tr>\n",
       "      <th>350</th>\n",
       "      <td>13074</td>\n",
       "      <td>13074000</td>\n",
       "      <td>419</td>\n",
       "      <td>27600419</td>\n",
       "      <td>400</td>\n",
       "      <td>Nordwestmecklenburg</td>\n",
       "      <td>DE80M</td>\n",
       "    </tr>\n",
       "  </tbody>\n",
       "</table>\n",
       "</div>"
      ],
      "text/plain": [
       "     ags_lk    id_ags  id_ags_lk  id_nuts3  id_t_nuts3_lk  \\\n",
       "idx                                                         \n",
       "347   13071  13071000        416  27600416            397   \n",
       "350   13074  13074000        419  27600419            400   \n",
       "\n",
       "                            name natcode_nuts3  \n",
       "idx                                             \n",
       "347  Mecklenburgische Seenplatte         DE80J  \n",
       "350          Nordwestmecklenburg         DE80M  "
      ]
     },
     "execution_count": 18,
     "metadata": {},
     "output_type": "execute_result"
    }
   ],
   "source": [
    "dic_nuts3 = config.region_id_to_nuts3(raw = True)\n",
    "dic_nuts3.loc[dic_nuts3.name.str.contains('ecklen')]\n",
    "#dic_nuts3.loc[dic_nuts3.ags_lk.str.contains(13)]\n",
    "#dic_nuts3.loc[dic_nuts3.ags_lk == 13074]"
   ]
  },
  {
   "cell_type": "markdown",
   "metadata": {},
   "source": [
    "... long, in form of a `pd.DataFrame`:"
   ]
  },
  {
   "cell_type": "code",
   "execution_count": 8,
   "metadata": {},
   "outputs": [
    {
     "data": {
      "text/html": [
       "<div>\n",
       "<style scoped>\n",
       "    .dataframe tbody tr th:only-of-type {\n",
       "        vertical-align: middle;\n",
       "    }\n",
       "\n",
       "    .dataframe tbody tr th {\n",
       "        vertical-align: top;\n",
       "    }\n",
       "\n",
       "    .dataframe thead th {\n",
       "        text-align: right;\n",
       "    }\n",
       "</style>\n",
       "<table border=\"1\" class=\"dataframe\">\n",
       "  <thead>\n",
       "    <tr style=\"text-align: right;\">\n",
       "      <th></th>\n",
       "      <th>ags_lk</th>\n",
       "      <th>id_ags</th>\n",
       "      <th>id_ags_lk</th>\n",
       "      <th>id_nuts3</th>\n",
       "      <th>id_t_nuts3_lk</th>\n",
       "      <th>name</th>\n",
       "      <th>natcode_nuts3</th>\n",
       "    </tr>\n",
       "    <tr>\n",
       "      <th>idx</th>\n",
       "      <th></th>\n",
       "      <th></th>\n",
       "      <th></th>\n",
       "      <th></th>\n",
       "      <th></th>\n",
       "      <th></th>\n",
       "      <th></th>\n",
       "    </tr>\n",
       "  </thead>\n",
       "  <tbody>\n",
       "    <tr>\n",
       "      <th>0</th>\n",
       "      <td>1001</td>\n",
       "      <td>1001000</td>\n",
       "      <td>1</td>\n",
       "      <td>27600001</td>\n",
       "      <td>1</td>\n",
       "      <td>Flensburg, Kreisfreie Stadt</td>\n",
       "      <td>DEF01</td>\n",
       "    </tr>\n",
       "    <tr>\n",
       "      <th>1</th>\n",
       "      <td>1002</td>\n",
       "      <td>1002000</td>\n",
       "      <td>2</td>\n",
       "      <td>27600002</td>\n",
       "      <td>2</td>\n",
       "      <td>Kiel, Kreisfreie Stadt</td>\n",
       "      <td>DEF02</td>\n",
       "    </tr>\n",
       "    <tr>\n",
       "      <th>2</th>\n",
       "      <td>1003</td>\n",
       "      <td>1003000</td>\n",
       "      <td>3</td>\n",
       "      <td>27600003</td>\n",
       "      <td>3</td>\n",
       "      <td>Lübeck, Kreisfreie Stadt</td>\n",
       "      <td>DEF03</td>\n",
       "    </tr>\n",
       "    <tr>\n",
       "      <th>3</th>\n",
       "      <td>1004</td>\n",
       "      <td>1004000</td>\n",
       "      <td>4</td>\n",
       "      <td>27600004</td>\n",
       "      <td>4</td>\n",
       "      <td>Neumünster, Kreisfreie Stadt</td>\n",
       "      <td>DEF04</td>\n",
       "    </tr>\n",
       "    <tr>\n",
       "      <th>4</th>\n",
       "      <td>1051</td>\n",
       "      <td>1051000</td>\n",
       "      <td>5</td>\n",
       "      <td>27600005</td>\n",
       "      <td>5</td>\n",
       "      <td>Dithmarschen</td>\n",
       "      <td>DEF05</td>\n",
       "    </tr>\n",
       "    <tr>\n",
       "      <th>5</th>\n",
       "      <td>1053</td>\n",
       "      <td>1053000</td>\n",
       "      <td>6</td>\n",
       "      <td>27600006</td>\n",
       "      <td>6</td>\n",
       "      <td>Herzogtum Lauenburg</td>\n",
       "      <td>DEF06</td>\n",
       "    </tr>\n",
       "    <tr>\n",
       "      <th>6</th>\n",
       "      <td>1054</td>\n",
       "      <td>1054000</td>\n",
       "      <td>7</td>\n",
       "      <td>27600007</td>\n",
       "      <td>7</td>\n",
       "      <td>Nordfriesland</td>\n",
       "      <td>DEF07</td>\n",
       "    </tr>\n",
       "    <tr>\n",
       "      <th>7</th>\n",
       "      <td>1055</td>\n",
       "      <td>1055000</td>\n",
       "      <td>8</td>\n",
       "      <td>27600008</td>\n",
       "      <td>8</td>\n",
       "      <td>Ostholstein</td>\n",
       "      <td>DEF08</td>\n",
       "    </tr>\n",
       "    <tr>\n",
       "      <th>8</th>\n",
       "      <td>1056</td>\n",
       "      <td>1056000</td>\n",
       "      <td>9</td>\n",
       "      <td>27600009</td>\n",
       "      <td>9</td>\n",
       "      <td>Pinneberg</td>\n",
       "      <td>DEF09</td>\n",
       "    </tr>\n",
       "    <tr>\n",
       "      <th>9</th>\n",
       "      <td>1057</td>\n",
       "      <td>1057000</td>\n",
       "      <td>10</td>\n",
       "      <td>27600010</td>\n",
       "      <td>10</td>\n",
       "      <td>Plön</td>\n",
       "      <td>DEF0A</td>\n",
       "    </tr>\n",
       "  </tbody>\n",
       "</table>\n",
       "</div>"
      ],
      "text/plain": [
       "     ags_lk   id_ags  id_ags_lk  id_nuts3  id_t_nuts3_lk  \\\n",
       "idx                                                        \n",
       "0      1001  1001000          1  27600001              1   \n",
       "1      1002  1002000          2  27600002              2   \n",
       "2      1003  1003000          3  27600003              3   \n",
       "3      1004  1004000          4  27600004              4   \n",
       "4      1051  1051000          5  27600005              5   \n",
       "5      1053  1053000          6  27600006              6   \n",
       "6      1054  1054000          7  27600007              7   \n",
       "7      1055  1055000          8  27600008              8   \n",
       "8      1056  1056000          9  27600009              9   \n",
       "9      1057  1057000         10  27600010             10   \n",
       "\n",
       "                             name natcode_nuts3  \n",
       "idx                                              \n",
       "0     Flensburg, Kreisfreie Stadt         DEF01  \n",
       "1          Kiel, Kreisfreie Stadt         DEF02  \n",
       "2        Lübeck, Kreisfreie Stadt         DEF03  \n",
       "3    Neumünster, Kreisfreie Stadt         DEF04  \n",
       "4                    Dithmarschen         DEF05  \n",
       "5             Herzogtum Lauenburg         DEF06  \n",
       "6                   Nordfriesland         DEF07  \n",
       "7                     Ostholstein         DEF08  \n",
       "8                       Pinneberg         DEF09  \n",
       "9                            Plön         DEF0A  "
      ]
     },
     "execution_count": 8,
     "metadata": {},
     "output_type": "execute_result"
    }
   ],
   "source": [
    "df_nuts3 = config.region_id_to_nuts3(raw=True)\n",
    "df_nuts3.head(n=10)"
   ]
  },
  {
   "cell_type": "markdown",
   "metadata": {},
   "source": [
    "### Show underlying geodata"
   ]
  },
  {
   "cell_type": "markdown",
   "metadata": {},
   "source": [
    "The above shown data can be connected to polygon shapes which are available from the Rest-API. All that is done automatically within `data.database_shapes()`"
   ]
  },
  {
   "cell_type": "code",
   "execution_count": 12,
   "metadata": {},
   "outputs": [
    {
     "data": {
      "text/html": [
       "<div>\n",
       "<style scoped>\n",
       "    .dataframe tbody tr th:only-of-type {\n",
       "        vertical-align: middle;\n",
       "    }\n",
       "\n",
       "    .dataframe tbody tr th {\n",
       "        vertical-align: top;\n",
       "    }\n",
       "\n",
       "    .dataframe thead th {\n",
       "        text-align: right;\n",
       "    }\n",
       "</style>\n",
       "<table border=\"1\" class=\"dataframe\">\n",
       "  <thead>\n",
       "    <tr style=\"text-align: right;\">\n",
       "      <th></th>\n",
       "      <th>ags</th>\n",
       "      <th>gen</th>\n",
       "      <th>id_ags</th>\n",
       "      <th>geometry</th>\n",
       "    </tr>\n",
       "    <tr>\n",
       "      <th>nuts3</th>\n",
       "      <th></th>\n",
       "      <th></th>\n",
       "      <th></th>\n",
       "      <th></th>\n",
       "    </tr>\n",
       "  </thead>\n",
       "  <tbody>\n",
       "    <tr>\n",
       "      <th>DE111</th>\n",
       "      <td>8111</td>\n",
       "      <td>Stuttgart</td>\n",
       "      <td>8111000</td>\n",
       "      <td>(POLYGON ((503296.317085977 5399263.24042964, ...</td>\n",
       "    </tr>\n",
       "    <tr>\n",
       "      <th>DE112</th>\n",
       "      <td>8115</td>\n",
       "      <td>Böblingen</td>\n",
       "      <td>8115000</td>\n",
       "      <td>(POLYGON ((488997.255248972 5376020.94077613, ...</td>\n",
       "    </tr>\n",
       "    <tr>\n",
       "      <th>DE113</th>\n",
       "      <td>8116</td>\n",
       "      <td>Esslingen</td>\n",
       "      <td>8116000</td>\n",
       "      <td>(POLYGON ((522281.668950966 5380559.67301634, ...</td>\n",
       "    </tr>\n",
       "    <tr>\n",
       "      <th>DE114</th>\n",
       "      <td>8117</td>\n",
       "      <td>Göppingen</td>\n",
       "      <td>8117000</td>\n",
       "      <td>(POLYGON ((553258.055977065 5378012.31748046, ...</td>\n",
       "    </tr>\n",
       "    <tr>\n",
       "      <th>DE115</th>\n",
       "      <td>8118</td>\n",
       "      <td>Ludwigsburg</td>\n",
       "      <td>8118000</td>\n",
       "      <td>(POLYGON ((529197.2800831629 5432422.24820909,...</td>\n",
       "    </tr>\n",
       "  </tbody>\n",
       "</table>\n",
       "</div>"
      ],
      "text/plain": [
       "        ags          gen   id_ags  \\\n",
       "nuts3                               \n",
       "DE111  8111    Stuttgart  8111000   \n",
       "DE112  8115    Böblingen  8115000   \n",
       "DE113  8116    Esslingen  8116000   \n",
       "DE114  8117    Göppingen  8117000   \n",
       "DE115  8118  Ludwigsburg  8118000   \n",
       "\n",
       "                                                geometry  \n",
       "nuts3                                                     \n",
       "DE111  (POLYGON ((503296.317085977 5399263.24042964, ...  \n",
       "DE112  (POLYGON ((488997.255248972 5376020.94077613, ...  \n",
       "DE113  (POLYGON ((522281.668950966 5380559.67301634, ...  \n",
       "DE114  (POLYGON ((553258.055977065 5378012.31748046, ...  \n",
       "DE115  (POLYGON ((529197.2800831629 5432422.24820909,...  "
      ]
     },
     "execution_count": 12,
     "metadata": {},
     "output_type": "execute_result"
    }
   ],
   "source": [
    "gdf = data.database_shapes()\n",
    "gdf.head()"
   ]
  },
  {
   "cell_type": "markdown",
   "metadata": {},
   "source": [
    "... and can easily be plotted:"
   ]
  },
  {
   "cell_type": "code",
   "execution_count": 13,
   "metadata": {},
   "outputs": [
    {
     "data": {
      "text/plain": [
       "<matplotlib.axes._subplots.AxesSubplot at 0xba20470>"
      ]
     },
     "execution_count": 13,
     "metadata": {},
     "output_type": "execute_result"
    },
    {
     "data": {
      "image/png": "[encoded data removed]",
      "text/plain": [
       "<Figure size 432x288 with 1 Axes>"
      ]
     },
     "metadata": {
      "needs_background": "light"
     },
     "output_type": "display_data"
    }
   ],
   "source": [
    "gdf.plot()"
   ]
  }
 ],
 "metadata": {
  "kernelspec": {
   "display_name": "Python 3",
   "language": "python",
   "name": "python3"
  },
  "language_info": {
   "codemirror_mode": {
    "name": "ipython",
    "version": 3
   },
   "file_extension": ".py",
   "mimetype": "text/x-python",
   "name": "python",
   "nbconvert_exporter": "python",
   "pygments_lexer": "ipython3",
   "version": "3.7.3"
  }
 },
 "nbformat": 4,
 "nbformat_minor": 4
}
